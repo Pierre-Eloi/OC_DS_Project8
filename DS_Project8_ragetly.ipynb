{
 "cells": [
  {
   "cell_type": "markdown",
   "id": "f3326124",
   "metadata": {},
   "source": [
    "# Project 8: Deploy a model with a big data architecture in AWS\n",
    "\n",
    "*Pierre-Eloi Ragetly*"
   ]
  },
  {
   "cell_type": "markdown",
   "id": "525edd1b",
   "metadata": {
    "toc": true
   },
   "source": [
    "<h1>Table of Contents<span class=\"tocSkip\"></span></h1>\n",
    "<div class=\"toc\"><ul class=\"toc-item\"><li><span><a href=\"#Create-a-file-with-all-picture's-path\" data-toc-modified-id=\"Create-a-file-with-all-picture's-path-1\"><span class=\"toc-item-num\">1&nbsp;&nbsp;</span>Create a file with all picture's path</a></span></li><li><span><a href=\"#Create-a-Spark-DataFrame-with-a-Path-column\" data-toc-modified-id=\"Create-a-Spark-DataFrame-with-a-Path-column-2\"><span class=\"toc-item-num\">2&nbsp;&nbsp;</span>Create a Spark DataFrame with a Path column</a></span></li><li><span><a href=\"#Read-in-data\" data-toc-modified-id=\"Read-in-data-3\"><span class=\"toc-item-num\">3&nbsp;&nbsp;</span>Read in data</a></span></li></ul></div>"
   ]
  },
  {
   "cell_type": "markdown",
   "id": "93782b02",
   "metadata": {},
   "source": [
    "## Create a file with all picture's path"
   ]
  },
  {
   "cell_type": "code",
   "execution_count": 1,
   "id": "76684da2",
   "metadata": {
    "ExecuteTime": {
     "end_time": "2022-10-06T12:33:03.082595Z",
     "start_time": "2022-10-06T12:33:03.075382Z"
    }
   },
   "outputs": [],
   "source": [
    "# File system management\n",
    "import os\n",
    "\n",
    "root_path = 'dataset/fruits-360_dataset/fruits-360'\n",
    "train_path = os.path.join(root_path, 'Training')\n",
    "test_path = os.path.join(root_path, 'Test')"
   ]
  },
  {
   "cell_type": "code",
   "execution_count": 2,
   "id": "2e3fe957",
   "metadata": {
    "ExecuteTime": {
     "end_time": "2022-10-06T12:33:04.044763Z",
     "start_time": "2022-10-06T12:33:04.041339Z"
    },
    "scrolled": false
   },
   "outputs": [],
   "source": [
    "def get_files_paths(path, text_name):\n",
    "    \"\"\"Extract all files paths and save them into a text file.\"\"\"\n",
    "    list_files = []\n",
    "    for root, dirs, files in os.walk(path):\n",
    "        for f in files:\n",
    "            if not f[0] == '.':\n",
    "                list_files.append(os.path.join(root, f))\n",
    "    with open(text_name, 'w') as f:\n",
    "        f.write('\\n'.join(list_files))"
   ]
  },
  {
   "cell_type": "code",
   "execution_count": 3,
   "id": "b16bdee8",
   "metadata": {
    "ExecuteTime": {
     "end_time": "2022-10-06T12:33:05.441348Z",
     "start_time": "2022-10-06T12:33:04.942234Z"
    }
   },
   "outputs": [],
   "source": [
    "get_files_paths(train_path, 'dataset/train_files.txt')\n",
    "get_files_paths(test_path, 'dataset/test_files.txt')"
   ]
  },
  {
   "cell_type": "markdown",
   "id": "d5425da7",
   "metadata": {},
   "source": [
    "## Create a Spark DataFrame with a Path column"
   ]
  },
  {
   "cell_type": "code",
   "execution_count": 4,
   "id": "1f635150",
   "metadata": {
    "ExecuteTime": {
     "end_time": "2022-10-06T12:33:09.602371Z",
     "start_time": "2022-10-06T12:33:06.810006Z"
    }
   },
   "outputs": [
    {
     "name": "stderr",
     "output_type": "stream",
     "text": [
      "Setting default log level to \"WARN\".\n",
      "To adjust logging level use sc.setLogLevel(newLevel). For SparkR, use setLogLevel(newLevel).\n"
     ]
    },
    {
     "name": "stdout",
     "output_type": "stream",
     "text": [
      "22/10/06 14:33:08 WARN NativeCodeLoader: Unable to load native-hadoop library for your platform... using builtin-java classes where applicable\n"
     ]
    }
   ],
   "source": [
    "from pyspark import SparkContext\n",
    "from pyspark.sql import SparkSession\n",
    "from pyspark.sql import Row\n",
    "\n",
    "sc = SparkContext()\n",
    "spark = SparkSession.builder.getOrCreate()"
   ]
  },
  {
   "cell_type": "code",
   "execution_count": 5,
   "id": "2b5da06b",
   "metadata": {
    "ExecuteTime": {
     "end_time": "2022-10-06T12:33:11.953570Z",
     "start_time": "2022-10-06T12:33:11.950285Z"
    }
   },
   "outputs": [],
   "source": [
    "def load_files_paths(path):\n",
    "    \"\"\"Load files paths into a Spark DataFrame\"\"\"\n",
    "    rdd = sc.textFile(path)\\\n",
    "            .map(lambda line: Row(path=line))\n",
    "    return spark.createDataFrame(rdd)"
   ]
  },
  {
   "cell_type": "code",
   "execution_count": 6,
   "id": "0e9d2269",
   "metadata": {
    "ExecuteTime": {
     "end_time": "2022-10-06T12:33:19.658552Z",
     "start_time": "2022-10-06T12:33:13.010653Z"
    }
   },
   "outputs": [
    {
     "name": "stderr",
     "output_type": "stream",
     "text": [
      "                                                                                \r"
     ]
    }
   ],
   "source": [
    "train = load_files_paths('dataset/train_files.txt')\n",
    "test = load_files_paths('dataset/train_files.txt')"
   ]
  },
  {
   "cell_type": "code",
   "execution_count": 7,
   "id": "8a10daea",
   "metadata": {
    "ExecuteTime": {
     "end_time": "2022-10-06T12:33:20.366445Z",
     "start_time": "2022-10-06T12:33:20.333193Z"
    }
   },
   "outputs": [],
   "source": [
    "data = train.union(test)"
   ]
  },
  {
   "cell_type": "code",
   "execution_count": 8,
   "id": "82aecfe4",
   "metadata": {
    "ExecuteTime": {
     "end_time": "2022-10-06T12:33:26.209447Z",
     "start_time": "2022-10-06T12:33:21.570497Z"
    },
    "scrolled": true
   },
   "outputs": [
    {
     "name": "stderr",
     "output_type": "stream",
     "text": [
      "\r",
      "[Stage 2:>                                                          (0 + 1) / 1]\r"
     ]
    },
    {
     "name": "stdout",
     "output_type": "stream",
     "text": [
      "22/10/06 14:33:26 WARN PythonRunner: Detected deadlock while completing task 0.0 in stage 2 (TID 2): Attempting to kill Python Worker\n",
      "+---------------------------------------------------------------------+\n",
      "|path                                                                 |\n",
      "+---------------------------------------------------------------------+\n",
      "|dataset/fruits-360_dataset/fruits-360/Training/Tomato 4/r_236_100.jpg|\n",
      "|dataset/fruits-360_dataset/fruits-360/Training/Tomato 4/247_100.jpg  |\n",
      "|dataset/fruits-360_dataset/fruits-360/Training/Tomato 4/257_100.jpg  |\n",
      "|dataset/fruits-360_dataset/fruits-360/Training/Tomato 4/r_78_100.jpg |\n",
      "|dataset/fruits-360_dataset/fruits-360/Training/Tomato 4/r_68_100.jpg |\n",
      "|dataset/fruits-360_dataset/fruits-360/Training/Tomato 4/r_150_100.jpg|\n",
      "|dataset/fruits-360_dataset/fruits-360/Training/Tomato 4/r_140_100.jpg|\n",
      "|dataset/fruits-360_dataset/fruits-360/Training/Tomato 4/131_100.jpg  |\n",
      "|dataset/fruits-360_dataset/fruits-360/Training/Tomato 4/198_100.jpg  |\n",
      "|dataset/fruits-360_dataset/fruits-360/Training/Tomato 4/18_100.jpg   |\n",
      "+---------------------------------------------------------------------+\n",
      "\n"
     ]
    },
    {
     "name": "stderr",
     "output_type": "stream",
     "text": [
      "\r",
      "                                                                                \r"
     ]
    }
   ],
   "source": [
    "data.limit(10).show(truncate=False)"
   ]
  },
  {
   "cell_type": "markdown",
   "id": "a9bb81a0",
   "metadata": {},
   "source": [
    "## Read in data"
   ]
  },
  {
   "cell_type": "code",
   "execution_count": 2,
   "id": "0ce02e0c",
   "metadata": {
    "ExecuteTime": {
     "end_time": "2022-07-11T08:28:42.088900Z",
     "start_time": "2022-07-11T08:28:41.752467Z"
    }
   },
   "outputs": [
    {
     "name": "stderr",
     "output_type": "stream",
     "text": [
      "The operation couldn’t be completed. Unable to locate a Java Runtime.\n",
      "Please visit http://www.java.com for information on installing Java.\n",
      "\n",
      "/Users/pierre-eloiragetly/Documents/OpenClassrooms/Data_Scientist/OC_DS_Project8/env/lib/python3.10/site-packages/pyspark/bin/spark-class: line 96: CMD: bad array subscript\n",
      "head: illegal line count -- -1\n"
     ]
    },
    {
     "ename": "RuntimeError",
     "evalue": "Java gateway process exited before sending its port number",
     "output_type": "error",
     "traceback": [
      "\u001b[0;31m---------------------------------------------------------------------------\u001b[0m",
      "\u001b[0;31mRuntimeError\u001b[0m                              Traceback (most recent call last)",
      "Input \u001b[0;32mIn [2]\u001b[0m, in \u001b[0;36m<cell line: 3>\u001b[0;34m()\u001b[0m\n\u001b[1;32m      1\u001b[0m \u001b[38;5;28;01mfrom\u001b[39;00m \u001b[38;5;21;01mpyspark\u001b[39;00m \u001b[38;5;28;01mimport\u001b[39;00m SparkContext\n\u001b[0;32m----> 3\u001b[0m sc \u001b[38;5;241m=\u001b[39m \u001b[43mSparkContext\u001b[49m\u001b[43m(\u001b[49m\u001b[43m)\u001b[49m\n",
      "File \u001b[0;32m~/Documents/OpenClassrooms/Data_Scientist/OC_DS_Project8/env/lib/python3.10/site-packages/pyspark/context.py:195\u001b[0m, in \u001b[0;36mSparkContext.__init__\u001b[0;34m(self, master, appName, sparkHome, pyFiles, environment, batchSize, serializer, conf, gateway, jsc, profiler_cls, udf_profiler_cls)\u001b[0m\n\u001b[1;32m    189\u001b[0m \u001b[38;5;28;01mif\u001b[39;00m gateway \u001b[38;5;129;01mis\u001b[39;00m \u001b[38;5;129;01mnot\u001b[39;00m \u001b[38;5;28;01mNone\u001b[39;00m \u001b[38;5;129;01mand\u001b[39;00m gateway\u001b[38;5;241m.\u001b[39mgateway_parameters\u001b[38;5;241m.\u001b[39mauth_token \u001b[38;5;129;01mis\u001b[39;00m \u001b[38;5;28;01mNone\u001b[39;00m:\n\u001b[1;32m    190\u001b[0m     \u001b[38;5;28;01mraise\u001b[39;00m \u001b[38;5;167;01mValueError\u001b[39;00m(\n\u001b[1;32m    191\u001b[0m         \u001b[38;5;124m\"\u001b[39m\u001b[38;5;124mYou are trying to pass an insecure Py4j gateway to Spark. This\u001b[39m\u001b[38;5;124m\"\u001b[39m\n\u001b[1;32m    192\u001b[0m         \u001b[38;5;124m\"\u001b[39m\u001b[38;5;124m is not allowed as it is a security risk.\u001b[39m\u001b[38;5;124m\"\u001b[39m\n\u001b[1;32m    193\u001b[0m     )\n\u001b[0;32m--> 195\u001b[0m \u001b[43mSparkContext\u001b[49m\u001b[38;5;241;43m.\u001b[39;49m\u001b[43m_ensure_initialized\u001b[49m\u001b[43m(\u001b[49m\u001b[38;5;28;43mself\u001b[39;49m\u001b[43m,\u001b[49m\u001b[43m \u001b[49m\u001b[43mgateway\u001b[49m\u001b[38;5;241;43m=\u001b[39;49m\u001b[43mgateway\u001b[49m\u001b[43m,\u001b[49m\u001b[43m \u001b[49m\u001b[43mconf\u001b[49m\u001b[38;5;241;43m=\u001b[39;49m\u001b[43mconf\u001b[49m\u001b[43m)\u001b[49m\n\u001b[1;32m    196\u001b[0m \u001b[38;5;28;01mtry\u001b[39;00m:\n\u001b[1;32m    197\u001b[0m     \u001b[38;5;28mself\u001b[39m\u001b[38;5;241m.\u001b[39m_do_init(\n\u001b[1;32m    198\u001b[0m         master,\n\u001b[1;32m    199\u001b[0m         appName,\n\u001b[0;32m   (...)\u001b[0m\n\u001b[1;32m    208\u001b[0m         udf_profiler_cls,\n\u001b[1;32m    209\u001b[0m     )\n",
      "File \u001b[0;32m~/Documents/OpenClassrooms/Data_Scientist/OC_DS_Project8/env/lib/python3.10/site-packages/pyspark/context.py:417\u001b[0m, in \u001b[0;36mSparkContext._ensure_initialized\u001b[0;34m(cls, instance, gateway, conf)\u001b[0m\n\u001b[1;32m    415\u001b[0m \u001b[38;5;28;01mwith\u001b[39;00m SparkContext\u001b[38;5;241m.\u001b[39m_lock:\n\u001b[1;32m    416\u001b[0m     \u001b[38;5;28;01mif\u001b[39;00m \u001b[38;5;129;01mnot\u001b[39;00m SparkContext\u001b[38;5;241m.\u001b[39m_gateway:\n\u001b[0;32m--> 417\u001b[0m         SparkContext\u001b[38;5;241m.\u001b[39m_gateway \u001b[38;5;241m=\u001b[39m gateway \u001b[38;5;129;01mor\u001b[39;00m \u001b[43mlaunch_gateway\u001b[49m\u001b[43m(\u001b[49m\u001b[43mconf\u001b[49m\u001b[43m)\u001b[49m\n\u001b[1;32m    418\u001b[0m         SparkContext\u001b[38;5;241m.\u001b[39m_jvm \u001b[38;5;241m=\u001b[39m SparkContext\u001b[38;5;241m.\u001b[39m_gateway\u001b[38;5;241m.\u001b[39mjvm\n\u001b[1;32m    420\u001b[0m     \u001b[38;5;28;01mif\u001b[39;00m instance:\n",
      "File \u001b[0;32m~/Documents/OpenClassrooms/Data_Scientist/OC_DS_Project8/env/lib/python3.10/site-packages/pyspark/java_gateway.py:106\u001b[0m, in \u001b[0;36mlaunch_gateway\u001b[0;34m(conf, popen_kwargs)\u001b[0m\n\u001b[1;32m    103\u001b[0m     time\u001b[38;5;241m.\u001b[39msleep(\u001b[38;5;241m0.1\u001b[39m)\n\u001b[1;32m    105\u001b[0m \u001b[38;5;28;01mif\u001b[39;00m \u001b[38;5;129;01mnot\u001b[39;00m os\u001b[38;5;241m.\u001b[39mpath\u001b[38;5;241m.\u001b[39misfile(conn_info_file):\n\u001b[0;32m--> 106\u001b[0m     \u001b[38;5;28;01mraise\u001b[39;00m \u001b[38;5;167;01mRuntimeError\u001b[39;00m(\u001b[38;5;124m\"\u001b[39m\u001b[38;5;124mJava gateway process exited before sending its port number\u001b[39m\u001b[38;5;124m\"\u001b[39m)\n\u001b[1;32m    108\u001b[0m \u001b[38;5;28;01mwith\u001b[39;00m \u001b[38;5;28mopen\u001b[39m(conn_info_file, \u001b[38;5;124m\"\u001b[39m\u001b[38;5;124mrb\u001b[39m\u001b[38;5;124m\"\u001b[39m) \u001b[38;5;28;01mas\u001b[39;00m info:\n\u001b[1;32m    109\u001b[0m     gateway_port \u001b[38;5;241m=\u001b[39m read_int(info)\n",
      "\u001b[0;31mRuntimeError\u001b[0m: Java gateway process exited before sending its port number"
     ]
    }
   ],
   "source": [
    "from pyspark import SparkContext\n",
    "\n",
    "sc = SparkContext()"
   ]
  },
  {
   "cell_type": "code",
   "execution_count": null,
   "id": "4e3b05b6",
   "metadata": {},
   "outputs": [],
   "source": []
  }
 ],
 "metadata": {
  "kernelspec": {
   "display_name": "Python 3 (ipykernel)",
   "language": "python",
   "name": "python3"
  },
  "language_info": {
   "codemirror_mode": {
    "name": "ipython",
    "version": 3
   },
   "file_extension": ".py",
   "mimetype": "text/x-python",
   "name": "python",
   "nbconvert_exporter": "python",
   "pygments_lexer": "ipython3",
   "version": "3.10.6"
  },
  "toc": {
   "base_numbering": 1,
   "nav_menu": {},
   "number_sections": true,
   "sideBar": true,
   "skip_h1_title": true,
   "title_cell": "Table of Contents",
   "title_sidebar": "Contents",
   "toc_cell": true,
   "toc_position": {},
   "toc_section_display": true,
   "toc_window_display": true
  }
 },
 "nbformat": 4,
 "nbformat_minor": 5
}
